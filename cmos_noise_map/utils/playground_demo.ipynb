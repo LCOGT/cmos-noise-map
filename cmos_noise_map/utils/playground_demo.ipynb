{
 "cells": [
  {
   "cell_type": "code",
   "execution_count": 1,
   "id": "2de7686c",
   "metadata": {},
   "outputs": [
    {
     "name": "stdout",
     "output_type": "stream",
     "text": [
      "/home/pkottapalli/cmos-noise-map\n"
     ]
    }
   ],
   "source": [
    "cd ../../"
   ]
  },
  {
   "cell_type": "code",
   "execution_count": 2,
   "id": "e6eae722",
   "metadata": {},
   "outputs": [],
   "source": [
    "from cmos_noise_map.utils.get_rts_playground import plot_get_rts, noise_distribution\n",
    "from cmos_noise_map.utils.read_write_utils import read_bias_frames"
   ]
  },
  {
   "cell_type": "markdown",
   "id": "4bd5846e",
   "metadata": {},
   "source": [
    "# Download test data from archive (only run once!)"
   ]
  },
  {
   "cell_type": "code",
   "execution_count": 3,
   "id": "a6143d2e",
   "metadata": {},
   "outputs": [],
   "source": [
    "#Import the test_data\n",
    "#!TODO: Download data instead from archive\n",
    "path = '/run/media/pkottapalli/Untitled/411_mod3_gain30_bin1_telegraph/'\n",
    "\n",
    "#Memory map files in:\n",
    "images = read_bias_frames(path, data_ext=0)"
   ]
  },
  {
   "cell_type": "markdown",
   "id": "b7349c1c",
   "metadata": {},
   "source": [
    "# Determining --upper_quantile"
   ]
  },
  {
   "cell_type": "code",
   "execution_count": null,
   "id": "6e4d3225",
   "metadata": {},
   "outputs": [],
   "source": [
    "dist = noise_distribution(images, gain=None)\n",
    "dist.noise_distribution_plot(upper_quantile=0.90, bins=1000)"
   ]
  }
 ],
 "metadata": {
  "kernelspec": {
   "display_name": "Python 3 (ipykernel)",
   "language": "python",
   "name": "python3"
  },
  "language_info": {
   "codemirror_mode": {
    "name": "ipython",
    "version": 3
   },
   "file_extension": ".py",
   "mimetype": "text/x-python",
   "name": "python",
   "nbconvert_exporter": "python",
   "pygments_lexer": "ipython3",
   "version": "3.9.12"
  }
 },
 "nbformat": 4,
 "nbformat_minor": 5
}
